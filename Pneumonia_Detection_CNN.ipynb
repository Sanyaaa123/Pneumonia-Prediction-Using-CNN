{
  "nbformat": 4,
  "nbformat_minor": 0,
  "metadata": {
    "colab": {
      "provenance": [],
      "gpuType": "T4"
    },
    "kernelspec": {
      "name": "python3",
      "display_name": "Python 3"
    },
    "language_info": {
      "name": "python"
    },
    "accelerator": "GPU"
  },
  "cells": [
    {
      "cell_type": "markdown",
      "source": [
        "# Pneumonia Detection from Chest X-Ray Images using CNN"
      ],
      "metadata": {
        "id": "hli_bNCtDjVB"
      }
    },
    {
      "cell_type": "markdown",
      "source": [
        "## Step 1 : Importing the libraries"
      ],
      "metadata": {
        "id": "26KxWi3f4At_"
      }
    },
    {
      "cell_type": "code",
      "execution_count": 42,
      "metadata": {
        "id": "FmOAs8vxRK9E"
      },
      "outputs": [],
      "source": [
        "import numpy as np\n",
        "import matplotlib.pyplot as plt\n",
        "import tensorflow as tf\n",
        "from tensorflow.keras.models import Sequential\n",
        "from tensorflow.keras.layers import Conv2D, MaxPooling2D, Flatten, Dense, Dropout\n",
        "from tensorflow.keras.preprocessing.image import ImageDataGenerator\n",
        "import os"
      ]
    },
    {
      "cell_type": "code",
      "source": [
        "tf.__version__"
      ],
      "metadata": {
        "colab": {
          "base_uri": "https://localhost:8080/",
          "height": 35
        },
        "id": "Z80BucPE4TEg",
        "outputId": "c6859d92-7048-482d-8ca8-75603db56c65"
      },
      "execution_count": 43,
      "outputs": [
        {
          "output_type": "execute_result",
          "data": {
            "text/plain": [
              "'2.18.0'"
            ],
            "application/vnd.google.colaboratory.intrinsic+json": {
              "type": "string"
            }
          },
          "metadata": {},
          "execution_count": 43
        }
      ]
    },
    {
      "cell_type": "markdown",
      "source": [
        "## Step 2 : Load and Preprocess the Data"
      ],
      "metadata": {
        "id": "SkG4BEGotBVa"
      }
    },
    {
      "cell_type": "code",
      "source": [
        "from google.colab import drive\n",
        "drive.mount('/content/drive')\n"
      ],
      "metadata": {
        "colab": {
          "base_uri": "https://localhost:8080/"
        },
        "id": "T3f15wc10wy6",
        "outputId": "e64df870-077b-46e3-b1f8-1c498f40a2e9"
      },
      "execution_count": 44,
      "outputs": [
        {
          "output_type": "stream",
          "name": "stdout",
          "text": [
            "Drive already mounted at /content/drive; to attempt to forcibly remount, call drive.mount(\"/content/drive\", force_remount=True).\n"
          ]
        }
      ]
    },
    {
      "cell_type": "code",
      "source": [
        "train_dir = '/content/drive/MyDrive/chest_xray/train'\n",
        "val_dir = '/content/drive/MyDrive/chest_xray/val'\n",
        "test_dir = '/content/drive/MyDrive/chest_xray/test'\n"
      ],
      "metadata": {
        "id": "4DJkhPR-s_09"
      },
      "execution_count": 45,
      "outputs": []
    },
    {
      "cell_type": "markdown",
      "source": [
        "## Step 3 : Create Image Generators"
      ],
      "metadata": {
        "id": "xLMILo5pTTsB"
      }
    },
    {
      "cell_type": "code",
      "source": [
        "train_datagen = ImageDataGenerator(\n",
        "    rescale=1./255,\n",
        "    rotation_range=20,\n",
        "    zoom_range=0.2,\n",
        "    shear_range=0.2,\n",
        "    horizontal_flip=True,\n",
        "    fill_mode='nearest')\n",
        "val_test_datagen = ImageDataGenerator(rescale=1./255)"
      ],
      "metadata": {
        "id": "2FKUL5nETYB3"
      },
      "execution_count": 46,
      "outputs": []
    },
    {
      "cell_type": "markdown",
      "source": [
        "## Step 4 : Flow the images from directories"
      ],
      "metadata": {
        "id": "-caww6zgxWTR"
      }
    },
    {
      "cell_type": "code",
      "source": [
        "train_generator = train_datagen.flow_from_directory(train_dir, target_size=(64, 64), batch_size=32, class_mode='binary')\n",
        "val_generator = val_test_datagen.flow_from_directory(val_dir, target_size=(64,64), batch_size=32, class_mode='binary')\n",
        "test_generator = val_test_datagen.flow_from_directory(test_dir, target_size=(64, 64), batch_size=32, class_mode='binary', shuffle=False)"
      ],
      "metadata": {
        "colab": {
          "base_uri": "https://localhost:8080/"
        },
        "id": "UAcTYyPcxHUN",
        "outputId": "42dc0355-c632-4e2a-b273-518b9b9cc999"
      },
      "execution_count": 47,
      "outputs": [
        {
          "output_type": "stream",
          "name": "stdout",
          "text": [
            "Found 5236 images belonging to 2 classes.\n",
            "Found 16 images belonging to 2 classes.\n",
            "Found 544 images belonging to 2 classes.\n"
          ]
        }
      ]
    },
    {
      "cell_type": "markdown",
      "source": [
        "## Step 5 : Build the CNN Model"
      ],
      "metadata": {
        "id": "h-jZ4jGTxcqS"
      }
    },
    {
      "cell_type": "code",
      "source": [
        "from tensorflow.keras import layers, models\n"
      ],
      "metadata": {
        "id": "Z7AfEqXu1_-Z"
      },
      "execution_count": 48,
      "outputs": []
    },
    {
      "cell_type": "code",
      "source": [
        "from tensorflow.keras import layers, models\n",
        "\n",
        "model = models.Sequential([\n",
        "    layers.Conv2D(32, (3,3), activation='relu', input_shape=(64,64,3)),\n",
        "    layers.MaxPooling2D(2,2),\n",
        "\n",
        "    layers.Conv2D(64, (3,3), activation='relu'),\n",
        "    layers.MaxPooling2D(2,2),\n",
        "\n",
        "    layers.Conv2D(128, (3,3), activation='relu'),\n",
        "    layers.MaxPooling2D(2,2),\n",
        "\n",
        "    layers.Flatten(),\n",
        "    layers.Dense(128, activation='relu'),\n",
        "    layers.Dropout(0.5),  # Dropout added here\n",
        "    layers.Dense(1, activation='sigmoid')\n",
        "])\n"
      ],
      "metadata": {
        "id": "V92J_Ij6xdJg"
      },
      "execution_count": 49,
      "outputs": []
    },
    {
      "cell_type": "markdown",
      "source": [
        "## Step 6 : Compile the Model"
      ],
      "metadata": {
        "id": "1lFbwuFi2Jrc"
      }
    },
    {
      "cell_type": "code",
      "source": [
        "model.compile(optimizer='adam', loss='binary_crossentropy', metrics=['accuracy'])\n"
      ],
      "metadata": {
        "id": "En3MT1PExj0G"
      },
      "execution_count": 50,
      "outputs": []
    },
    {
      "cell_type": "markdown",
      "source": [
        "## Step 7 : Add Callbacks (Early Stopping)"
      ],
      "metadata": {
        "id": "gC5-JbcN2QCf"
      }
    },
    {
      "cell_type": "code",
      "source": [
        "from tensorflow.keras.callbacks import EarlyStopping, ReduceLROnPlateau\n",
        "\n",
        "callback = [\n",
        "    EarlyStopping(monitor='val_loss', patience=3, restore_best_weights=True),\n",
        "    ReduceLROnPlateau(monitor='val_loss', factor=0.2, patience=2)\n",
        "]\n",
        "\n"
      ],
      "metadata": {
        "id": "MzpJROAf2Mv3"
      },
      "execution_count": 51,
      "outputs": []
    },
    {
      "cell_type": "markdown",
      "source": [
        "## Step 8 : Train the Model"
      ],
      "metadata": {
        "id": "CjSkE8of2YCe"
      }
    },
    {
      "cell_type": "code",
      "source": [
        "history = model.fit(train_generator, epochs=10, validation_data=val_generator, callbacks=[callback])\n"
      ],
      "metadata": {
        "colab": {
          "base_uri": "https://localhost:8080/"
        },
        "id": "2RNE7pvx2VvW",
        "outputId": "36ec827c-ef25-454a-acba-e9985a464809"
      },
      "execution_count": 52,
      "outputs": [
        {
          "output_type": "stream",
          "name": "stdout",
          "text": [
            "Epoch 1/10\n",
            "\u001b[1m164/164\u001b[0m \u001b[32m━━━━━━━━━━━━━━━━━━━━\u001b[0m\u001b[37m\u001b[0m \u001b[1m68s\u001b[0m 393ms/step - accuracy: 0.7475 - loss: 0.5186 - val_accuracy: 0.8750 - val_loss: 0.4881 - learning_rate: 0.0010\n",
            "Epoch 2/10\n",
            "\u001b[1m164/164\u001b[0m \u001b[32m━━━━━━━━━━━━━━━━━━━━\u001b[0m\u001b[37m\u001b[0m \u001b[1m78s\u001b[0m 381ms/step - accuracy: 0.8805 - loss: 0.2793 - val_accuracy: 0.6875 - val_loss: 0.9569 - learning_rate: 0.0010\n",
            "Epoch 3/10\n",
            "\u001b[1m164/164\u001b[0m \u001b[32m━━━━━━━━━━━━━━━━━━━━\u001b[0m\u001b[37m\u001b[0m \u001b[1m62s\u001b[0m 376ms/step - accuracy: 0.9067 - loss: 0.2289 - val_accuracy: 0.6875 - val_loss: 0.6409 - learning_rate: 0.0010\n",
            "Epoch 4/10\n",
            "\u001b[1m164/164\u001b[0m \u001b[32m━━━━━━━━━━━━━━━━━━━━\u001b[0m\u001b[37m\u001b[0m \u001b[1m83s\u001b[0m 380ms/step - accuracy: 0.9283 - loss: 0.1959 - val_accuracy: 0.6875 - val_loss: 0.5266 - learning_rate: 2.0000e-04\n"
          ]
        }
      ]
    },
    {
      "cell_type": "markdown",
      "source": [
        "## Step 9 : Evaluate the Model"
      ],
      "metadata": {
        "id": "Lxvr-zns2eZG"
      }
    },
    {
      "cell_type": "code",
      "source": [
        "test_loss, test_acc = model.evaluate(test_generator)\n",
        "print(f\"Test Accuracy: {test_acc:.2f}\")\n"
      ],
      "metadata": {
        "colab": {
          "base_uri": "https://localhost:8080/"
        },
        "id": "qUZ0_vJb2aBX",
        "outputId": "ba885e04-35cc-4820-d1e8-95aa7f0d4157"
      },
      "execution_count": 53,
      "outputs": [
        {
          "output_type": "stream",
          "name": "stdout",
          "text": [
            "\u001b[1m17/17\u001b[0m \u001b[32m━━━━━━━━━━━━━━━━━━━━\u001b[0m\u001b[37m\u001b[0m \u001b[1m6s\u001b[0m 322ms/step - accuracy: 0.8779 - loss: 0.3948\n",
            "Test Accuracy: 0.86\n"
          ]
        }
      ]
    },
    {
      "cell_type": "markdown",
      "source": [
        "## Step 10 : Confusion Matrix"
      ],
      "metadata": {
        "id": "3abu1KBV2ks7"
      }
    },
    {
      "cell_type": "code",
      "source": [
        "from sklearn.metrics import confusion_matrix, classification_report , accuracy_score\n",
        "\n",
        "y_pred = model.predict(test_generator)\n",
        "y_pred_classes = (y_pred > 0.5).astype(int)\n",
        "y_true = test_generator.classes\n",
        "\n",
        "print(confusion_matrix(y_true, y_pred_classes))\n",
        "print(classification_report(y_true, y_pred_classes))\n",
        "\n",
        "print(accuracy_score(y_true, y_pred_classes))"
      ],
      "metadata": {
        "colab": {
          "base_uri": "https://localhost:8080/"
        },
        "id": "MV3bxmGP2hc6",
        "outputId": "1fc11af1-86e6-49b9-db24-800bd0ee6945"
      },
      "execution_count": 54,
      "outputs": [
        {
          "output_type": "stream",
          "name": "stdout",
          "text": [
            "\u001b[1m17/17\u001b[0m \u001b[32m━━━━━━━━━━━━━━━━━━━━\u001b[0m\u001b[37m\u001b[0m \u001b[1m6s\u001b[0m 277ms/step\n",
            "[[201  33]\n",
            " [ 44 266]]\n",
            "              precision    recall  f1-score   support\n",
            "\n",
            "           0       0.82      0.86      0.84       234\n",
            "           1       0.89      0.86      0.87       310\n",
            "\n",
            "    accuracy                           0.86       544\n",
            "   macro avg       0.86      0.86      0.86       544\n",
            "weighted avg       0.86      0.86      0.86       544\n",
            "\n",
            "0.8584558823529411\n"
          ]
        }
      ]
    }
  ]
}